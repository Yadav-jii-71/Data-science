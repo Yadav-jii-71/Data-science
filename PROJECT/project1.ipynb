{
 "cells": [
  {
   "cell_type": "code",
   "execution_count": 1,
   "id": "f5e512a2",
   "metadata": {},
   "outputs": [
    {
     "name": "stdout",
     "output_type": "stream",
     "text": [
      "After deposit: 3000\n",
      "Withdrawal successful\n",
      "After withdrawal: 2900\n",
      "Your name: Sanjay\n",
      "Your age: 21\n",
      "Phone: 078921458\n",
      "Address: Haryana\n",
      "Total Balance: 2900\n"
     ]
    }
   ],
   "source": [
    "class Bank:\n",
    "    def __init__(self, name, age, account_number, phone_number, address, amount):\n",
    "        self.name = name\n",
    "        self.age = age\n",
    "        self.__account_number = account_number  \n",
    "        self.phone_number = phone_number\n",
    "        self.address = address\n",
    "        self.amount = amount\n",
    "\n",
    "    def deposit(self, amount):\n",
    "        self.amount = self.amount + amount\n",
    "        return self.amount\n",
    "\n",
    "    def withdraw(self, amount):\n",
    "        if amount <= self.amount:\n",
    "            self.amount -= amount\n",
    "            return \"Withdrawal successful\"\n",
    "        else:\n",
    "            return \"Insufficient balance\"\n",
    "\n",
    "    def total_balance(self):\n",
    "        return self.amount\n",
    "\n",
    "    def info(self):\n",
    "        print(\"Your name:\", self.name)\n",
    "        print(\"Your age:\", self.age)\n",
    "        print(\"Phone:\", self.phone_number)\n",
    "        print(\"Address:\", self.address)\n",
    "        print(\"Total Balance:\", self.amount)\n",
    "\n",
    "\n",
    "\n",
    "bn_obj = Bank(name=\"Sanjay\", age=21, account_number=\"22587\", phone_number=\"078921458\", address=\"Haryana\", amount=2000)\n",
    "\n",
    "\n",
    "bn_obj.deposit(1000)\n",
    "print(\"After deposit:\", bn_obj.total_balance())\n",
    "\n",
    "print(bn_obj.withdraw(100))\n",
    "print(\"After withdrawal:\", bn_obj.total_balance())\n",
    "\n",
    "bn_obj.info()\n"
   ]
  }
 ],
 "metadata": {
  "kernelspec": {
   "display_name": "Python 3",
   "language": "python",
   "name": "python3"
  },
  "language_info": {
   "codemirror_mode": {
    "name": "ipython",
    "version": 3
   },
   "file_extension": ".py",
   "mimetype": "text/x-python",
   "name": "python",
   "nbconvert_exporter": "python",
   "pygments_lexer": "ipython3",
   "version": "3.11.5"
  }
 },
 "nbformat": 4,
 "nbformat_minor": 5
}

{
 "cells": [
  {
   "cell_type": "code",
   "execution_count": 1,
   "id": "cb1ec16f",
   "metadata": {},
   "outputs": [
    {
     "name": "stdout",
     "output_type": "stream",
     "text": [
      "Welcome to the BMI Calculator\n",
      "\n",
      "Your BMI is: 16.05\n",
      "Category: Underweight\n",
      "Thank you for using the BMI Calculator.\n"
     ]
    }
   ],
   "source": [
    "def calculate_bmi(weight, height):\n",
    "    bmi = weight / (height ** 2)\n",
    "    return bmi\n",
    "\n",
    "def bmi_category(bmi):\n",
    "    if bmi < 18.5:\n",
    "        return \"Underweight\"\n",
    "    elif 18.5 <= bmi < 25:\n",
    "        return \"Normal weight\"\n",
    "    elif 25 <= bmi < 30:\n",
    "        return \"Overweight\"\n",
    "    else:\n",
    "        return \"Obese\"\n",
    "\n",
    "def main():\n",
    "    print(\"Welcome to the BMI Calculator\")\n",
    "    \n",
    "    while True:\n",
    "        try:\n",
    "            weight = float(input(\"Enter your weight in kilograms (kg): \"))\n",
    "            height = float(input(\"Enter your height in meters (m): \"))\n",
    "\n",
    "            bmi = calculate_bmi(weight, height)\n",
    "            category = bmi_category(bmi)\n",
    "\n",
    "            print(f\"\\nYour BMI is: {bmi:.2f}\")\n",
    "            print(f\"Category: {category}\")\n",
    "\n",
    "        except ValueError:\n",
    "            print(\"Please enter valid numbers for weight and height.\")\n",
    "\n",
    "        again = input(\"\\nDo you want to calculate again? (yes/no): \").lower()\n",
    "        if again != 'yes':\n",
    "            print(\"Thank you for using the BMI Calculator.\")\n",
    "            break\n",
    "\n",
    "if __name__ == \"__main__\":\n",
    "    main()\n"
   ]
  }
 ],
 "metadata": {
  "kernelspec": {
   "display_name": "Python 3",
   "language": "python",
   "name": "python3"
  },
  "language_info": {
   "codemirror_mode": {
    "name": "ipython",
    "version": 3
   },
   "file_extension": ".py",
   "mimetype": "text/x-python",
   "name": "python",
   "nbconvert_exporter": "python",
   "pygments_lexer": "ipython3",
   "version": "3.11.5"
  }
 },
 "nbformat": 4,
 "nbformat_minor": 5
}

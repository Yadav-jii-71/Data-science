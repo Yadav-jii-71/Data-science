{
 "cells": [
  {
   "cell_type": "markdown",
   "id": "2e34a9f4",
   "metadata": {},
   "source": [
    "### OS"
   ]
  },
  {
   "cell_type": "code",
   "execution_count": 2,
   "id": "6845db72",
   "metadata": {},
   "outputs": [],
   "source": [
    "import os"
   ]
  },
  {
   "cell_type": "code",
   "execution_count": null,
   "id": "3da40573",
   "metadata": {},
   "outputs": [
    {
     "name": "stdout",
     "output_type": "stream",
     "text": [
      "c:\\Users\\duggu\\Desktop\\DATA SCIENCE\\OS\n"
     ]
    }
   ],
   "source": [
    "file =os.getcwd()\n",
    "print(file)             # get current working directory"
   ]
  },
  {
   "cell_type": "code",
   "execution_count": 6,
   "id": "1ace66bf",
   "metadata": {},
   "outputs": [
    {
     "name": "stdout",
     "output_type": "stream",
     "text": [
      "Total files ['bassic.py', 'conditional.ipynb', 'demo.txt', 'exception.ipynb', 'file_handling.ipynb', 'function.ipynb', 'looping.ipynb', 'new.txt', 'oops.ipynb', 'text.txt']\n"
     ]
    }
   ],
   "source": [
    "file =os.listdir(r\"c:\\Users\\duggu\\Desktop\\DATA SCIENCE\\PYTHON\")  \n",
    "      # list all directoryies\n",
    "print(\"Total files\",file)"
   ]
  },
  {
   "cell_type": "code",
   "execution_count": 7,
   "id": "a50f6a82",
   "metadata": {},
   "outputs": [
    {
     "name": "stdout",
     "output_type": "stream",
     "text": [
      "Total files ['os.ipynb']\n"
     ]
    }
   ],
   "source": [
    "file =os.listdir(r\"c:\\Users\\duggu\\Desktop\\DATA SCIENCE\\OS\")  \n",
    "      # list all directoryies\n",
    "print(\"Total files\",file)"
   ]
  },
  {
   "cell_type": "code",
   "execution_count": 10,
   "id": "33859119",
   "metadata": {},
   "outputs": [
    {
     "data": {
      "text/plain": [
       "['DEEP LEARNING',\n",
       " 'GEN AI',\n",
       " 'LSTM & GRU',\n",
       " 'MACHINE LEARNING',\n",
       " 'MATPLOTLIB',\n",
       " 'NUMPY',\n",
       " 'OS',\n",
       " 'PANDAS',\n",
       " 'PROJECT',\n",
       " 'PYTHON',\n",
       " 'SEABORN']"
      ]
     },
     "execution_count": 10,
     "metadata": {},
     "output_type": "execute_result"
    }
   ],
   "source": [
    "path =r\"C:\\Users\\duggu\\Desktop\\DATA SCIENCE\"\n",
    "os.listdir(path)"
   ]
  },
  {
   "cell_type": "code",
   "execution_count": 11,
   "id": "2d95e47f",
   "metadata": {},
   "outputs": [
    {
     "name": "stdout",
     "output_type": "stream",
     "text": [
      "folder created successfully\n"
     ]
    }
   ],
   "source": [
    "os.mkdir(\"test\")\n",
    "print(\"folder created successfully\")"
   ]
  },
  {
   "cell_type": "code",
   "execution_count": 12,
   "id": "ef489adf",
   "metadata": {},
   "outputs": [
    {
     "data": {
      "text/plain": [
       "['os.ipynb', 'test']"
      ]
     },
     "execution_count": 12,
     "metadata": {},
     "output_type": "execute_result"
    }
   ],
   "source": [
    "os.listdir(os.getcwd())"
   ]
  },
  {
   "cell_type": "code",
   "execution_count": 13,
   "id": "9f23f6af",
   "metadata": {},
   "outputs": [
    {
     "name": "stdout",
     "output_type": "stream",
     "text": [
      "name change successfully\n"
     ]
    }
   ],
   "source": [
    "os.rename(\"test\",\"Data science\")\n",
    "print(\"name change successfully\")"
   ]
  },
  {
   "cell_type": "code",
   "execution_count": 14,
   "id": "2fe0b678",
   "metadata": {},
   "outputs": [
    {
     "data": {
      "text/plain": [
       "['Data science', 'os.ipynb']"
      ]
     },
     "execution_count": 14,
     "metadata": {},
     "output_type": "execute_result"
    }
   ],
   "source": [
    "os.listdir(os.getcwd())"
   ]
  },
  {
   "cell_type": "code",
   "execution_count": null,
   "id": "74cee8d0",
   "metadata": {},
   "outputs": [],
   "source": [
    "# os.remove(\"file name\")"
   ]
  },
  {
   "cell_type": "code",
   "execution_count": 15,
   "id": "b895724b",
   "metadata": {},
   "outputs": [
    {
     "data": {
      "text/plain": [
       "'c:\\\\Users\\\\duggu\\\\Desktop\\\\DATA SCIENCE\\\\OS'"
      ]
     },
     "execution_count": 15,
     "metadata": {},
     "output_type": "execute_result"
    }
   ],
   "source": [
    "os.getcwd()"
   ]
  },
  {
   "cell_type": "code",
   "execution_count": 16,
   "id": "449acf1a",
   "metadata": {},
   "outputs": [
    {
     "name": "stdout",
     "output_type": "stream",
     "text": [
      "path exist None\n"
     ]
    }
   ],
   "source": [
    "path =r\"c:\\\\Users\\\\duggu\\\\Desktop\\\\DATA SCIENCE\\\\OS\"\n",
    "path =os.environ.get(path)\n",
    "print(\"path exist\",path)"
   ]
  },
  {
   "cell_type": "code",
   "execution_count": 17,
   "id": "0ebdda1b",
   "metadata": {},
   "outputs": [],
   "source": [
    "# os.system(path)"
   ]
  },
  {
   "cell_type": "code",
   "execution_count": 18,
   "id": "5c10db32",
   "metadata": {},
   "outputs": [
    {
     "data": {
      "text/plain": [
       "True"
      ]
     },
     "execution_count": 18,
     "metadata": {},
     "output_type": "execute_result"
    }
   ],
   "source": [
    "path =r\"C:\\Users\\duggu\\Desktop\\DATA SCIENCE\\PYTHON\\function.ipynb\"\n",
    "os.path.isfile(path)"
   ]
  },
  {
   "cell_type": "code",
   "execution_count": 20,
   "id": "690b6b1f",
   "metadata": {},
   "outputs": [
    {
     "data": {
      "text/plain": [
       "False"
      ]
     },
     "execution_count": 20,
     "metadata": {},
     "output_type": "execute_result"
    }
   ],
   "source": [
    "path =r\"C:\\Users\\duggu\\Desktop\\DATA SCIENCE\\PYTHON\\SaANJAY\"\n",
    "os.path.isdir(path)"
   ]
  },
  {
   "cell_type": "code",
   "execution_count": 23,
   "id": "098554da",
   "metadata": {},
   "outputs": [
    {
     "name": "stdout",
     "output_type": "stream",
     "text": [
      "C:\\Users\\duggu\\Desktop\\DATA SCIENCE\\PYTHON\n"
     ]
    }
   ],
   "source": [
    "path1 =path =r\"C:\\Users\\duggu\\Desktop\"\n",
    "path2 =r\"DATA SCIENCE\\PYTHON\"\n",
    "complete_path = os.path.join(path1, path2)\n",
    "print(complete_path)"
   ]
  },
  {
   "cell_type": "code",
   "execution_count": 24,
   "id": "b5c9e670",
   "metadata": {},
   "outputs": [
    {
     "name": "stdout",
     "output_type": "stream",
     "text": [
      "C:\\Users\\duggu\\Desktop\\DATA SCIENCE\\PYTHON\n"
     ]
    },
    {
     "data": {
      "text/plain": [
       "['bassic.py',\n",
       " 'conditional.ipynb',\n",
       " 'demo.txt',\n",
       " 'exception.ipynb',\n",
       " 'file_handling.ipynb',\n",
       " 'function.ipynb',\n",
       " 'looping.ipynb',\n",
       " 'new.txt',\n",
       " 'oops.ipynb',\n",
       " 'text.txt']"
      ]
     },
     "execution_count": 24,
     "metadata": {},
     "output_type": "execute_result"
    }
   ],
   "source": [
    "path1 =path =r\"C:\\Users\\duggu\\Desktop\"\n",
    "path2 =r\"DATA SCIENCE\\PYTHON\"\n",
    "complete_path = os.path.join(path1, path2)\n",
    "print(complete_path)\n",
    "os.listdir(complete_path)"
   ]
  },
  {
   "cell_type": "code",
   "execution_count": 25,
   "id": "f5b3d423",
   "metadata": {},
   "outputs": [
    {
     "name": "stdout",
     "output_type": "stream",
     "text": [
      "size of file (in bytes) 895499\n"
     ]
    }
   ],
   "source": [
    "path =r\"C:\\Users\\duggu\\Desktop\\DATA SCIENCE\\PYTHON\\looping.ipynb\"\n",
    "size =os.path.getsize(path)\n",
    "print(\"size of file (in bytes)\",size)\n"
   ]
  },
  {
   "cell_type": "code",
   "execution_count": 26,
   "id": "df3b5246",
   "metadata": {},
   "outputs": [
    {
     "name": "stdout",
     "output_type": "stream",
     "text": [
      "before dir c:\\Users\\duggu\\Desktop\\DATA SCIENCE\\OS\n",
      "after dir c:\\Users\\duggu\\Desktop\\DATA SCIENCE\\PYTHON\n"
     ]
    }
   ],
   "source": [
    "print(\"before dir\",os.getcwd())\n",
    "os.chdir(r\"c:\\\\Users\\\\duggu\\\\Desktop\\\\DATA SCIENCE\\\\PYTHON\")\n",
    "print(\"after dir\",os.getcwd())"
   ]
  },
  {
   "cell_type": "code",
   "execution_count": null,
   "id": "d5ace9d4",
   "metadata": {},
   "outputs": [],
   "source": []
  }
 ],
 "metadata": {
  "kernelspec": {
   "display_name": "Python 3",
   "language": "python",
   "name": "python3"
  },
  "language_info": {
   "codemirror_mode": {
    "name": "ipython",
    "version": 3
   },
   "file_extension": ".py",
   "mimetype": "text/x-python",
   "name": "python",
   "nbconvert_exporter": "python",
   "pygments_lexer": "ipython3",
   "version": "3.11.5"
  }
 },
 "nbformat": 4,
 "nbformat_minor": 5
}

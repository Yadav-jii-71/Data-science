{
 "cells": [
  {
   "cell_type": "code",
   "execution_count": 1,
   "id": "860d08f2",
   "metadata": {},
   "outputs": [],
   "source": [
    "try:\n",
    "    pass  ## main code\n",
    "except:\n",
    "    pass   ## error handling\n",
    "else:\n",
    "    pass    ## multiple error\n",
    "finally:\n",
    "    pass    ## run every time\n"
   ]
  },
  {
   "cell_type": "code",
   "execution_count": null,
   "id": "a9d62e4a",
   "metadata": {},
   "outputs": [
    {
     "name": "stdout",
     "output_type": "stream",
     "text": [
      "invalid input invalid literal for int() with base 10: 'hh'\n"
     ]
    }
   ],
   "source": [
    "try:\n",
    "    a = int(input(\"enter a number\"))\n",
    "    b = int(input(\"enter second number\"))\n",
    "    print(a*b)\n",
    "except ValueError as e:\n",
    "    print(\"invalid input\", e)\n",
    "\n",
    "\n",
    "# python error handling how many types"
   ]
  },
  {
   "cell_type": "code",
   "execution_count": null,
   "id": "c40492ae",
   "metadata": {},
   "outputs": [
    {
     "name": "stdout",
     "output_type": "stream",
     "text": [
      "4.0\n"
     ]
    }
   ],
   "source": [
    "try:\n",
    "    a = int(input(\"enter a number\"))\n",
    "    b = int(input(\"enter second number\"))\n",
    "    print(a/b)\n",
    "except ZeroDivisionError as e:\n",
    "    print(e)\n"
   ]
  },
  {
   "cell_type": "code",
   "execution_count": 15,
   "id": "50319272",
   "metadata": {},
   "outputs": [
    {
     "name": "stdout",
     "output_type": "stream",
     "text": [
      "invalid literal for int() with base 10: 'hh'\n"
     ]
    }
   ],
   "source": [
    "try:\n",
    "    a = int(input(\"enter a number\"))\n",
    "    b = int(input(\"enter second number\"))\n",
    "    print(a/b)\n",
    "except Exception as e:\n",
    "    print(e)\n",
    "\n",
    "\n",
    "# python error handling how many types"
   ]
  },
  {
   "cell_type": "code",
   "execution_count": 17,
   "id": "5c9a535d",
   "metadata": {},
   "outputs": [
    {
     "name": "stdout",
     "output_type": "stream",
     "text": [
      "11.0\n",
      "no error\n",
      "44\n",
      "Run\n"
     ]
    }
   ],
   "source": [
    "try:\n",
    "    a = int(input(\"enter a number\"))\n",
    "    b = int(input(\"enter second number\"))\n",
    "    print(a/b)\n",
    "except ZeroDivisionError as e:\n",
    "    print(e)\n",
    "      \n",
    "else :\n",
    "    print(\"no error\") \n",
    "    print(a*b)  \n",
    "finally:\n",
    "    print(\"Run\")    \n"
   ]
  },
  {
   "cell_type": "code",
   "execution_count": 18,
   "id": "3619c667",
   "metadata": {},
   "outputs": [
    {
     "name": "stdout",
     "output_type": "stream",
     "text": [
      "division by zero\n",
      "Run\n"
     ]
    }
   ],
   "source": [
    "try:\n",
    "    a = int(input(\"enter a number\"))\n",
    "    b = int(input(\"enter second number\"))\n",
    "    print(a/b)\n",
    "except ZeroDivisionError as e:\n",
    "    print(e)\n",
    "      \n",
    "else :\n",
    "    print(\"no error\") \n",
    "    print(a*b)  \n",
    "finally:\n",
    "    print(\"Run\")    \n"
   ]
  },
  {
   "cell_type": "code",
   "execution_count": 23,
   "id": "cb7a63e4",
   "metadata": {},
   "outputs": [
    {
     "name": "stdout",
     "output_type": "stream",
     "text": [
      "final result 5.0\n",
      "Thanks for using our services\n"
     ]
    }
   ],
   "source": [
    "try:\n",
    "    num1  =int(input(\"enter\"))\n",
    "    num2 =int(input(\"second\"))\n",
    "    result = num1/num2\n",
    "except ZeroDivisionError as e:\n",
    "    print(e)\n",
    "except ValueError as e:\n",
    "    print(e)\n",
    "except Exception as e:\n",
    "    print(e)  \n",
    "else:\n",
    "    print(\"final result\", result)\n",
    "finally:\n",
    "    print(\"Thanks for using our services\")"
   ]
  }
 ],
 "metadata": {
  "kernelspec": {
   "display_name": "Python 3",
   "language": "python",
   "name": "python3"
  },
  "language_info": {
   "codemirror_mode": {
    "name": "ipython",
    "version": 3
   },
   "file_extension": ".py",
   "mimetype": "text/x-python",
   "name": "python",
   "nbconvert_exporter": "python",
   "pygments_lexer": "ipython3",
   "version": "3.11.5"
  }
 },
 "nbformat": 4,
 "nbformat_minor": 5
}

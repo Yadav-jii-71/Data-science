{
 "cells": [
  {
   "cell_type": "code",
   "execution_count": 1,
   "id": "eb1617c1",
   "metadata": {},
   "outputs": [
    {
     "data": {
      "text/plain": [
       "10"
      ]
     },
     "execution_count": 1,
     "metadata": {},
     "output_type": "execute_result"
    }
   ],
   "source": [
    "a = 10\n",
    "a"
   ]
  },
  {
   "cell_type": "code",
   "execution_count": null,
   "id": "8789dbbe",
   "metadata": {},
   "outputs": [
    {
     "name": "stdout",
     "output_type": "stream",
     "text": [
      "x is smaller than 10\n"
     ]
    }
   ],
   "source": [
    "x = 0\n",
    "if x<10: # condition\n",
    "    print(\"x is smaller than 10\") # block of code"
   ]
  },
  {
   "cell_type": "code",
   "execution_count": 3,
   "id": "ed4fb56d",
   "metadata": {},
   "outputs": [
    {
     "name": "stdout",
     "output_type": "stream",
     "text": [
      "x is larger than 10\n"
     ]
    }
   ],
   "source": [
    "x = 20\n",
    "if x<10: # condition\n",
    "    print(\"x is smaller than 10\") # block of code\n",
    "\n",
    "else:\n",
    "    print(\"x is larger than 10\")"
   ]
  },
  {
   "cell_type": "code",
   "execution_count": 4,
   "id": "a936aed7",
   "metadata": {},
   "outputs": [
    {
     "name": "stdout",
     "output_type": "stream",
     "text": [
      "x is 20\n"
     ]
    }
   ],
   "source": [
    "x = 20\n",
    "if x<10: # condition\n",
    "    print(\"x is smaller than 10\") # block of code\n",
    "\n",
    "elif x==20:\n",
    "    print(\"x is 20\")\n",
    "\n",
    "else:\n",
    "    print(\"x is larger than 10\")"
   ]
  },
  {
   "cell_type": "markdown",
   "id": "7f2a2617",
   "metadata": {},
   "source": [
    "Write a code for age where if your age is large than 18 u are eligible for vote othervise note\n",
    "Find the largest no\n",
    "Check even or odd\n",
    "Leap year checker\n",
    "Grading System\n",
    "90 and above : Garde A\n",
    "75 to 89 Garde B\n",
    "60 to 74 Grade C\n",
    "Below 60 Grade D\n",
    "Finf Largest of three no."
   ]
  },
  {
   "cell_type": "code",
   "execution_count": 4,
   "id": "7c6691b9",
   "metadata": {},
   "outputs": [
    {
     "name": "stdout",
     "output_type": "stream",
     "text": [
      "You are not eligible for Voting\n"
     ]
    }
   ],
   "source": [
    "x = int(input(\"Enter your age\"))\n",
    "if x >= 18:\n",
    "    print(\"Your are Eligible for Voting\")\n",
    "\n",
    "else:\n",
    "    print(\"You are not eligible for Voting\")"
   ]
  },
  {
   "cell_type": "markdown",
   "id": "e0060e34",
   "metadata": {},
   "source": [
    "### Largest  Three No."
   ]
  },
  {
   "cell_type": "code",
   "execution_count": 1,
   "id": "3f013e84",
   "metadata": {},
   "outputs": [
    {
     "name": "stdout",
     "output_type": "stream",
     "text": [
      "Largest number is: 36\n"
     ]
    }
   ],
   "source": [
    "a = int(input(\"Enter first number: \"))\n",
    "b = int(input(\"Enter second number: \"))\n",
    "c = int(input(\"Enter third number: \"))\n",
    "\n",
    "if a >= b and a >= c:\n",
    "    print(\"Largest number is:\", a)\n",
    "elif b >= a and b >= c:\n",
    "    print(\"Largest number is:\", b)\n",
    "else:\n",
    "    print(\"Largest number is:\", c)\n"
   ]
  },
  {
   "cell_type": "markdown",
   "id": "fb6b4d1e",
   "metadata": {},
   "source": [
    "#### Even or Odd"
   ]
  },
  {
   "cell_type": "code",
   "execution_count": 2,
   "id": "5f11f794",
   "metadata": {},
   "outputs": [
    {
     "name": "stdout",
     "output_type": "stream",
     "text": [
      "13 is Odd\n"
     ]
    }
   ],
   "source": [
    "num = int(input(\"Enter a number: \"))\n",
    "\n",
    "if num % 2 == 0:\n",
    "    print(num, \"is Even\")\n",
    "else:\n",
    "    print(num, \"is Odd\")\n"
   ]
  },
  {
   "cell_type": "markdown",
   "id": "bd4de556",
   "metadata": {},
   "source": [
    "### Leap Year"
   ]
  },
  {
   "cell_type": "code",
   "execution_count": 6,
   "id": "6d0d65b4",
   "metadata": {},
   "outputs": [
    {
     "name": "stdout",
     "output_type": "stream",
     "text": [
      "2000 is a Leap Year\n"
     ]
    }
   ],
   "source": [
    "year = int(input(\"Enter a year: \"))\n",
    "\n",
    "if (year % 4 == 0  ) or (year % 400 == 0):\n",
    "    print(year, \"is a Leap Year\")\n",
    "else:\n",
    "    print(year, \"is Not a Leap Year\")\n"
   ]
  },
  {
   "cell_type": "markdown",
   "id": "7444904b",
   "metadata": {},
   "source": [
    "#### Grading System"
   ]
  },
  {
   "cell_type": "code",
   "execution_count": 9,
   "id": "474f8f73",
   "metadata": {},
   "outputs": [
    {
     "name": "stdout",
     "output_type": "stream",
     "text": [
      "Grade: B\n"
     ]
    }
   ],
   "source": [
    "marks = int(input(\"Enter your marks: \"))\n",
    "\n",
    "if marks >= 90:\n",
    "    print(\"Grade: A\")\n",
    "elif marks >= 75:\n",
    "    print(\"Grade: B\")\n",
    "elif marks >= 60:\n",
    "    print(\"Grade: C\")\n",
    "else:\n",
    "    print(\"Grade: D\")\n"
   ]
  },
  {
   "cell_type": "markdown",
   "id": "619e54e3",
   "metadata": {},
   "source": [
    "#### Traffic Light System"
   ]
  },
  {
   "cell_type": "code",
   "execution_count": 15,
   "id": "1ab51cfb",
   "metadata": {},
   "outputs": [
    {
     "name": "stdout",
     "output_type": "stream",
     "text": [
      "Go\n"
     ]
    }
   ],
   "source": [
    "\n",
    "color = input(\"Enter the light color: \").lower()\n",
    "\n",
    "if color == \"red\":\n",
    "    print(\"Stop\")\n",
    "elif color == \"yellow\":\n",
    "    print(\"Wait\")\n",
    "else:\n",
    "    print(\"Go\")\n"
   ]
  }
 ],
 "metadata": {
  "kernelspec": {
   "display_name": "Python 3",
   "language": "python",
   "name": "python3"
  },
  "language_info": {
   "codemirror_mode": {
    "name": "ipython",
    "version": 3
   },
   "file_extension": ".py",
   "mimetype": "text/x-python",
   "name": "python",
   "nbconvert_exporter": "python",
   "pygments_lexer": "ipython3",
   "version": "3.11.5"
  }
 },
 "nbformat": 4,
 "nbformat_minor": 5
}

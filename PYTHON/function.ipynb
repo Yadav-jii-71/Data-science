{
 "cells": [
  {
   "cell_type": "code",
   "execution_count": null,
   "id": "cd291a0c",
   "metadata": {},
   "outputs": [],
   "source": [
    "def function_name():\n",
    "    pass\n",
    "\n",
    "# function_name is function name\n",
    "#def is keyword\n",
    "# pass is placeholder"
   ]
  },
  {
   "cell_type": "code",
   "execution_count": null,
   "id": "6db86e0a",
   "metadata": {},
   "outputs": [],
   "source": [
    "def function_name():\n",
    "    pass\n",
    "\n",
    "function_name(): # calling function"
   ]
  },
  {
   "cell_type": "code",
   "execution_count": 8,
   "id": "3d50ca86",
   "metadata": {},
   "outputs": [],
   "source": [
    "def display():\n",
    "    print(\"Hello\")"
   ]
  },
  {
   "cell_type": "code",
   "execution_count": 9,
   "id": "5b90d869",
   "metadata": {},
   "outputs": [
    {
     "name": "stdout",
     "output_type": "stream",
     "text": [
      "Hello\n"
     ]
    }
   ],
   "source": [
    "display()"
   ]
  },
  {
   "cell_type": "code",
   "execution_count": 3,
   "id": "2b40c0c5",
   "metadata": {},
   "outputs": [
    {
     "name": "stdout",
     "output_type": "stream",
     "text": [
      "30\n"
     ]
    }
   ],
   "source": [
    "def add():\n",
    "    a =10\n",
    "    b = 20\n",
    "    print(a+b)\n",
    "add()"
   ]
  },
  {
   "cell_type": "code",
   "execution_count": 4,
   "id": "2f655374",
   "metadata": {},
   "outputs": [
    {
     "name": "stdout",
     "output_type": "stream",
     "text": [
      "30\n"
     ]
    }
   ],
   "source": [
    "add()"
   ]
  },
  {
   "cell_type": "code",
   "execution_count": 14,
   "id": "cbf1ebef",
   "metadata": {},
   "outputs": [],
   "source": [
    "def display(name , age, address= \"Haryana\"):\n",
    "    print(f\"my name is {name} and my age is {age} and my address is {address}\" )\n"
   ]
  },
  {
   "cell_type": "code",
   "execution_count": 15,
   "id": "83af2b13",
   "metadata": {},
   "outputs": [
    {
     "name": "stdout",
     "output_type": "stream",
     "text": [
      "my name is Sanjay and my age is 21 and my address is Haryana\n"
     ]
    }
   ],
   "source": [
    "display(\"Sanjay\", 21)"
   ]
  },
  {
   "cell_type": "code",
   "execution_count": 16,
   "id": "6d6198bf",
   "metadata": {},
   "outputs": [
    {
     "data": {
      "text/plain": [
       "50"
      ]
     },
     "execution_count": 16,
     "metadata": {},
     "output_type": "execute_result"
    }
   ],
   "source": [
    "add = lambda a , b : a+b\n",
    "add (20,30)"
   ]
  },
  {
   "cell_type": "code",
   "execution_count": 18,
   "id": "43ca8ec7",
   "metadata": {},
   "outputs": [
    {
     "data": {
      "text/plain": [
       "144"
      ]
     },
     "execution_count": 18,
     "metadata": {},
     "output_type": "execute_result"
    }
   ],
   "source": [
    "square = lambda a: a**2\n",
    "square (12)"
   ]
  }
 ],
 "metadata": {
  "kernelspec": {
   "display_name": "Python 3",
   "language": "python",
   "name": "python3"
  },
  "language_info": {
   "codemirror_mode": {
    "name": "ipython",
    "version": 3
   },
   "file_extension": ".py",
   "mimetype": "text/x-python",
   "name": "python",
   "nbconvert_exporter": "python",
   "pygments_lexer": "ipython3",
   "version": "3.11.5"
  }
 },
 "nbformat": 4,
 "nbformat_minor": 5
}

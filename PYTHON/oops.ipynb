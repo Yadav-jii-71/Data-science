{
 "cells": [
  {
   "cell_type": "markdown",
   "id": "e176e761",
   "metadata": {},
   "source": [
    "#### OOPS concept in Python"
   ]
  },
  {
   "cell_type": "code",
   "execution_count": 3,
   "id": "fe448eb7",
   "metadata": {},
   "outputs": [
    {
     "name": "stdout",
     "output_type": "stream",
     "text": [
      "my name is Sanjay and my age is 21\n"
     ]
    }
   ],
   "source": [
    "class Student:\n",
    "    name = \"Sanjay\"\n",
    "    age = 21\n",
    "    print(f\"my name is {name} and my age is {age}\")\n",
    "obj_st=Student()"
   ]
  },
  {
   "cell_type": "code",
   "execution_count": 2,
   "id": "f2399291",
   "metadata": {},
   "outputs": [
    {
     "data": {
      "text/plain": [
       "'Sanjay'"
      ]
     },
     "execution_count": 2,
     "metadata": {},
     "output_type": "execute_result"
    }
   ],
   "source": [
    "obj_st.name"
   ]
  },
  {
   "cell_type": "code",
   "execution_count": 3,
   "id": "7ab545a4",
   "metadata": {},
   "outputs": [
    {
     "data": {
      "text/plain": [
       "21"
      ]
     },
     "execution_count": 3,
     "metadata": {},
     "output_type": "execute_result"
    }
   ],
   "source": [
    "obj_st.age"
   ]
  },
  {
   "cell_type": "code",
   "execution_count": 4,
   "id": "55feba68",
   "metadata": {},
   "outputs": [],
   "source": [
    "class Student:\n",
    "    name = \"Sanjay\"\n",
    "    age = 21\n",
    "\n",
    "    def info(self):\n",
    "        print(\"this is my firts method\")\n",
    "\n",
    "dt_obj = Student()"
   ]
  },
  {
   "cell_type": "code",
   "execution_count": 5,
   "id": "ee3730ee",
   "metadata": {},
   "outputs": [
    {
     "name": "stdout",
     "output_type": "stream",
     "text": [
      "this is my firts method\n"
     ]
    }
   ],
   "source": [
    "dt_obj.info()"
   ]
  },
  {
   "cell_type": "code",
   "execution_count": 13,
   "id": "b5e5f413",
   "metadata": {},
   "outputs": [],
   "source": [
    "class Student:\n",
    "    name = \"Sanjay\"\n",
    "    age = 21\n",
    "\n",
    "    def info(self):\n",
    "        print(f\"my name is {self.name} and my age is {self.age}\")\n",
    "\n",
    "dt_obj = Student()"
   ]
  },
  {
   "cell_type": "code",
   "execution_count": 15,
   "id": "592e41bb",
   "metadata": {},
   "outputs": [
    {
     "name": "stdout",
     "output_type": "stream",
     "text": [
      "my name is Sanjay and my age is 21\n"
     ]
    }
   ],
   "source": [
    "dt_obj.info()"
   ]
  },
  {
   "cell_type": "markdown",
   "id": "29f83de4",
   "metadata": {},
   "source": [
    "#### Inheritence"
   ]
  },
  {
   "cell_type": "code",
   "execution_count": null,
   "id": "1c67066c",
   "metadata": {},
   "outputs": [],
   "source": [
    "class Collage:\n",
    "    pass\n",
    "class Student(Collage):\n",
    "    pass"
   ]
  },
  {
   "cell_type": "code",
   "execution_count": 17,
   "id": "5a48c1a9",
   "metadata": {},
   "outputs": [
    {
     "name": "stdout",
     "output_type": "stream",
     "text": [
      "Jagannath University\n",
      "Jaipur\n",
      "Sanjay\n",
      "22087\n"
     ]
    }
   ],
   "source": [
    "class Collage:\n",
    "    collage_name = \"Jagannath University\"\n",
    "    collage_address = \"Jaipur\"\n",
    "\n",
    "class Student(Collage):\n",
    "    student_name = \"Sanjay\"\n",
    "    Student_id = \"22087\"\n",
    "\n",
    "st_obj =Student()\n",
    "print(st_obj.collage_name)\n",
    "print(st_obj.collage_address)\n",
    "print(st_obj.student_name)\n",
    "print(st_obj.Student_id)"
   ]
  },
  {
   "cell_type": "code",
   "execution_count": 18,
   "id": "9fed7c0b",
   "metadata": {},
   "outputs": [
    {
     "name": "stdout",
     "output_type": "stream",
     "text": [
      "Jaivir\n",
      "223\n",
      "Rajbir\n",
      "224\n"
     ]
    }
   ],
   "source": [
    "class Father:\n",
    "    father_name = \"Jaivir\"\n",
    "    father_id = 223\n",
    "    pass\n",
    "class Uncle:\n",
    "    uncle_name = \"Rajbir\"\n",
    "    uncle_id = 224\n",
    "    pass\n",
    "class Child(Father,Uncle):\n",
    "    pass\n",
    "\n",
    "obj_child = Child()\n",
    "print(obj_child.father_name)\n",
    "print(obj_child.father_id)\n",
    "print(obj_child.uncle_name)\n",
    "print(obj_child.uncle_id)"
   ]
  },
  {
   "cell_type": "code",
   "execution_count": 24,
   "id": "d3293b91",
   "metadata": {},
   "outputs": [
    {
     "name": "stdout",
     "output_type": "stream",
     "text": [
      "Jaivir\n",
      "223\n",
      "Ramniwas\n",
      "221\n"
     ]
    }
   ],
   "source": [
    "class Grandfather:\n",
    "    grandfather_name = \"Ramniwas\"\n",
    "    grandfather_id = 221\n",
    "    pass\n",
    "\n",
    "class Father(Grandfather):\n",
    "    father_name = \"Jaivir\"\n",
    "    father_id = 223\n",
    "    pass\n",
    "\n",
    "class Child(Father):\n",
    "    pass\n",
    "\n",
    "obj_child = Child()\n",
    "print(obj_child.father_name)\n",
    "print(obj_child.father_id)\n",
    "print(obj_child.grandfather_name)\n",
    "print(obj_child.grandfather_id)"
   ]
  },
  {
   "cell_type": "markdown",
   "id": "b6f0fbc7",
   "metadata": {},
   "source": [
    "### Encapsulation\n",
    "#### private\n",
    "#### public\n",
    "#### protected"
   ]
  },
  {
   "cell_type": "code",
   "execution_count": 6,
   "id": "b1746591",
   "metadata": {},
   "outputs": [],
   "source": [
    "class Student:\n",
    "    __name = \"Sanjay\"\n",
    "    age = 21\n",
    "    _id = \"0287\"\n",
    "st_obj =Student()"
   ]
  },
  {
   "cell_type": "code",
   "execution_count": 2,
   "id": "9791e27a",
   "metadata": {},
   "outputs": [
    {
     "data": {
      "text/plain": [
       "21"
      ]
     },
     "execution_count": 2,
     "metadata": {},
     "output_type": "execute_result"
    }
   ],
   "source": [
    "st_obj.age"
   ]
  },
  {
   "cell_type": "code",
   "execution_count": 4,
   "id": "2f815bf7",
   "metadata": {},
   "outputs": [
    {
     "data": {
      "text/plain": [
       "'0287'"
      ]
     },
     "execution_count": 4,
     "metadata": {},
     "output_type": "execute_result"
    }
   ],
   "source": [
    "st_obj._id"
   ]
  },
  {
   "cell_type": "code",
   "execution_count": 7,
   "id": "8c0b6e6e",
   "metadata": {},
   "outputs": [
    {
     "ename": "AttributeError",
     "evalue": "'Student' object has no attribute '__name'",
     "output_type": "error",
     "traceback": [
      "\u001b[31m---------------------------------------------------------------------------\u001b[39m",
      "\u001b[31mAttributeError\u001b[39m                            Traceback (most recent call last)",
      "\u001b[36mCell\u001b[39m\u001b[36m \u001b[39m\u001b[32mIn[7]\u001b[39m\u001b[32m, line 1\u001b[39m\n\u001b[32m----> \u001b[39m\u001b[32m1\u001b[39m \u001b[43mst_obj\u001b[49m\u001b[43m.\u001b[49m\u001b[43m__name\u001b[49m\n",
      "\u001b[31mAttributeError\u001b[39m: 'Student' object has no attribute '__name'"
     ]
    }
   ],
   "source": [
    "st_obj.__name"
   ]
  },
  {
   "cell_type": "code",
   "execution_count": 8,
   "id": "4848bcd1",
   "metadata": {},
   "outputs": [
    {
     "data": {
      "text/plain": [
       "'Sanjay'"
      ]
     },
     "execution_count": 8,
     "metadata": {},
     "output_type": "execute_result"
    }
   ],
   "source": [
    "st_obj._Student__name"
   ]
  },
  {
   "cell_type": "markdown",
   "id": "d03d7c1d",
   "metadata": {},
   "source": [
    "#### TAsk \n",
    "#### Super function    \n",
    "#### creaate project bmi calculator "
   ]
  },
  {
   "cell_type": "code",
   "execution_count": null,
   "id": "771c7e7d",
   "metadata": {},
   "outputs": [],
   "source": [
    "class Bank:\n",
    "    __account_number = \"022008807941\"\n",
    "    _account_holder_name = \"Sanjay\"\n",
    "    _address = \"Haryana\"\n",
    "    __phone_number = \"+916350159971\"\n",
    "    _balance = \"22500\"\n",
    "bk_obj =Bank()\n"
   ]
  },
  {
   "cell_type": "code",
   "execution_count": 12,
   "id": "721861d9",
   "metadata": {},
   "outputs": [
    {
     "data": {
      "text/plain": [
       "'Sanjay'"
      ]
     },
     "execution_count": 12,
     "metadata": {},
     "output_type": "execute_result"
    }
   ],
   "source": [
    "bk_obj._account_holder_name"
   ]
  },
  {
   "cell_type": "code",
   "execution_count": 13,
   "id": "ec5358be",
   "metadata": {},
   "outputs": [
    {
     "data": {
      "text/plain": [
       "'Haryana'"
      ]
     },
     "execution_count": 13,
     "metadata": {},
     "output_type": "execute_result"
    }
   ],
   "source": [
    "bk_obj._address"
   ]
  },
  {
   "cell_type": "code",
   "execution_count": 15,
   "id": "a4aaf81d",
   "metadata": {},
   "outputs": [
    {
     "data": {
      "text/plain": [
       "'022008807941'"
      ]
     },
     "execution_count": 15,
     "metadata": {},
     "output_type": "execute_result"
    }
   ],
   "source": [
    "bk_obj._Bank__account_number"
   ]
  },
  {
   "cell_type": "code",
   "execution_count": 16,
   "id": "c6a72b3c",
   "metadata": {},
   "outputs": [
    {
     "data": {
      "text/plain": [
       "'22500'"
      ]
     },
     "execution_count": 16,
     "metadata": {},
     "output_type": "execute_result"
    }
   ],
   "source": [
    "bk_obj._balance"
   ]
  },
  {
   "cell_type": "code",
   "execution_count": 17,
   "id": "6c6f0d2a",
   "metadata": {},
   "outputs": [
    {
     "data": {
      "text/plain": [
       "'+916350159971'"
      ]
     },
     "execution_count": 17,
     "metadata": {},
     "output_type": "execute_result"
    }
   ],
   "source": [
    "bk_obj._Bank__phone_number"
   ]
  },
  {
   "cell_type": "code",
   "execution_count": 18,
   "id": "d400c327",
   "metadata": {},
   "outputs": [
    {
     "data": {
      "text/plain": [
       "<__main__.Student at 0x1ea8c9bb650>"
      ]
     },
     "execution_count": 18,
     "metadata": {},
     "output_type": "execute_result"
    }
   ],
   "source": [
    "### constructor\n",
    "# init method\n",
    "# __init__\n",
    "\n",
    "\n",
    "class Student:\n",
    "    def __init__(self):\n",
    "        pass\n",
    "Student()"
   ]
  },
  {
   "cell_type": "code",
   "execution_count": 19,
   "id": "c77bc251",
   "metadata": {},
   "outputs": [
    {
     "data": {
      "text/plain": [
       "'Sanjay'"
      ]
     },
     "execution_count": 19,
     "metadata": {},
     "output_type": "execute_result"
    }
   ],
   "source": [
    "class Student:\n",
    "    def __init__(self, name, age):\n",
    "        self.name = name\n",
    "        self.age = age\n",
    "\n",
    "obj_st = Student(name = \"Sanjay\", age =21)\n",
    "\n",
    "obj_st.name"
   ]
  },
  {
   "cell_type": "code",
   "execution_count": 20,
   "id": "99c3563a",
   "metadata": {},
   "outputs": [
    {
     "data": {
      "text/plain": [
       "21"
      ]
     },
     "execution_count": 20,
     "metadata": {},
     "output_type": "execute_result"
    }
   ],
   "source": [
    "obj_st.age"
   ]
  },
  {
   "cell_type": "code",
   "execution_count": 21,
   "id": "5f5c908e",
   "metadata": {},
   "outputs": [
    {
     "name": "stdout",
     "output_type": "stream",
     "text": [
      "Sanjay\n",
      "21\n"
     ]
    }
   ],
   "source": [
    "class Student:\n",
    "    def __init__(self, name, age):\n",
    "        self.name = name\n",
    "        self.age = age\n",
    "\n",
    "obj_st = Student(name = \"Sanjay\", age =21)\n",
    "\n",
    "print(obj_st.name)\n",
    "print(obj_st.age)"
   ]
  },
  {
   "cell_type": "code",
   "execution_count": 25,
   "id": "32181205",
   "metadata": {},
   "outputs": [],
   "source": [
    "class Student:\n",
    "    def __init__(self, name, age, address):\n",
    "        self.name = name\n",
    "        self.age = age\n",
    "        self.address = address\n",
    "\n",
    "    def display(self):\n",
    "        print(f\"my name is {self.name} and my age is {self.age} and my address is {self.address}\")\n",
    "\n",
    "obj_st =Student(name = \"Sanjay\", age = 21, address =  \"Haryana\" )"
   ]
  },
  {
   "cell_type": "code",
   "execution_count": 26,
   "id": "5eababd4",
   "metadata": {},
   "outputs": [
    {
     "name": "stdout",
     "output_type": "stream",
     "text": [
      "my name is Sanjay and my age is 21 and my address is Haryana\n"
     ]
    }
   ],
   "source": [
    "obj_st.display()"
   ]
  },
  {
   "cell_type": "code",
   "execution_count": null,
   "id": "86b87e26",
   "metadata": {},
   "outputs": [],
   "source": [
    "class Bank:\n",
    "    def __init__(self, name, age, account_number, phone_number, address):\n",
    "        self.name = name\n",
    "        self.age = age\n",
    "        self.__account_number = account_number  \n",
    "        self.phone_number = phone_number\n",
    "        self.address = address\n",
    "\n",
    "    def deposit(self, amount):\n",
    "        pass\n",
    "\n",
    "    def withdraw(self, amount):\n",
    "        pass\n",
    "\n",
    "    def total_balance(self):\n",
    "        pass\n",
    "\n",
    "    def info(self):\n",
    "        pass\n",
    "\n",
    "\n",
    "bn_obj = Bank(\"Lakshay\", 25, \"1234567890\", \"9876543210\", \"Haryana\")\n"
   ]
  },
  {
   "cell_type": "code",
   "execution_count": 35,
   "id": "4fbc7c85",
   "metadata": {},
   "outputs": [
    {
     "name": "stdout",
     "output_type": "stream",
     "text": [
      "After deposit: 2500\n",
      "Withdrawal successful\n",
      "After withdrawal: 2400\n",
      "Your name: Lakshay\n",
      "Your age: 21\n",
      "Phone: 078921458\n",
      "Address: Haryana\n",
      "Total Balance: 2400\n"
     ]
    }
   ],
   "source": [
    "class Bank:\n",
    "    def __init__(self, name, age, account_number, phone_number, address, amount):\n",
    "        self.name = name\n",
    "        self.age = age\n",
    "        self.__account_number = account_number  \n",
    "        self.phone_number = phone_number\n",
    "        self.address = address\n",
    "        self.amount = amount\n",
    "\n",
    "    def deposit(self, amount):\n",
    "        self.amount = self.amount + amount\n",
    "        return self.amount\n",
    "\n",
    "    def withdraw(self, amount):\n",
    "        if amount <= self.amount:\n",
    "            self.amount -= amount\n",
    "            return \"Withdrawal successful\"\n",
    "        else:\n",
    "            return \"Insufficient balance\"\n",
    "\n",
    "    def total_balance(self):\n",
    "        return self.amount\n",
    "\n",
    "    def info(self):\n",
    "        print(\"Your name:\", self.name)\n",
    "        print(\"Your age:\", self.age)\n",
    "        print(\"Phone:\", self.phone_number)\n",
    "        print(\"Address:\", self.address)\n",
    "        print(\"Total Balance:\", self.amount)\n",
    "\n",
    "\n",
    "\n",
    "bn_obj = Bank(name=\"Lakshay\", age=21, account_number=\"22587\", phone_number=\"078921458\", address=\"Haryana\", amount=2000)\n",
    "\n",
    "\n",
    "bn_obj.deposit(500)\n",
    "print(\"After deposit:\", bn_obj.total_balance())\n",
    "\n",
    "print(bn_obj.withdraw(100))\n",
    "print(\"After withdrawal:\", bn_obj.total_balance())\n",
    "\n",
    "bn_obj.info()\n"
   ]
  },
  {
   "cell_type": "markdown",
   "id": "aa6e3f5a",
   "metadata": {},
   "source": [
    "#### PROJECT\n"
   ]
  },
  {
   "cell_type": "code",
   "execution_count": 6,
   "id": "c7fe9608",
   "metadata": {},
   "outputs": [
    {
     "name": "stdout",
     "output_type": "stream",
     "text": [
      "Welcome to the BMI Calculator\n"
     ]
    },
    {
     "name": "stdout",
     "output_type": "stream",
     "text": [
      "\n",
      "Your BMI is: 22.22\n",
      "Category: Normal weight\n",
      "Thank you for using the BMI Calculator.\n"
     ]
    }
   ],
   "source": [
    "def calculate_bmi(weight, height):\n",
    "    bmi = weight / (height ** 2)\n",
    "    return bmi\n",
    "\n",
    "def bmi_category(bmi):\n",
    "    if bmi < 18.5:\n",
    "        return \"Underweight\"\n",
    "    elif 18.5 <= bmi < 25:\n",
    "        return \"Normal weight\"\n",
    "    elif 25 <= bmi < 30:\n",
    "        return \"Overweight\"\n",
    "    else:\n",
    "        return \"Obese\"\n",
    "\n",
    "def main():\n",
    "    print(\"Welcome to the BMI Calculator\")\n",
    "    \n",
    "    while True:\n",
    "        try:\n",
    "            weight = float(input(\"Enter your weight in kilograms (kg): \"))\n",
    "            height = float(input(\"Enter your height in meters (m): \"))\n",
    "\n",
    "            bmi = calculate_bmi(weight, height)\n",
    "            category = bmi_category(bmi)\n",
    "\n",
    "            print(f\"\\nYour BMI is: {bmi:.2f}\")\n",
    "            print(f\"Category: {category}\")\n",
    "\n",
    "        except ValueError:\n",
    "            print(\"Please enter valid numbers for weight and height.\")\n",
    "\n",
    "        again = input(\"\\nDo you want to calculate again? (yes/no): \").lower()\n",
    "        if again != 'yes':\n",
    "            print(\"Thank you for using the BMI Calculator.\")\n",
    "            break\n",
    "\n",
    "if __name__ == \"__main__\":\n",
    "    main()\n"
   ]
  }
 ],
 "metadata": {
  "kernelspec": {
   "display_name": "Python 3",
   "language": "python",
   "name": "python3"
  },
  "language_info": {
   "codemirror_mode": {
    "name": "ipython",
    "version": 3
   },
   "file_extension": ".py",
   "mimetype": "text/x-python",
   "name": "python",
   "nbconvert_exporter": "python",
   "pygments_lexer": "ipython3",
   "version": "3.11.5"
  }
 },
 "nbformat": 4,
 "nbformat_minor": 5
}
